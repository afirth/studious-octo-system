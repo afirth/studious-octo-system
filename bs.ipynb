{
 "cells": [
  {
   "cell_type": "code",
   "execution_count": 1,
   "metadata": {},
   "outputs": [
    {
     "ename": "ModuleNotFoundError",
     "evalue": "No module named 'plotly'",
     "output_type": "error",
     "traceback": [
      "\u001b[0;31m---------------------------------------------------------------------------\u001b[0m",
      "\u001b[0;31mModuleNotFoundError\u001b[0m                       Traceback (most recent call last)",
      "\u001b[0;32m<ipython-input-1-25e6da9993fd>\u001b[0m in \u001b[0;36m<module>\u001b[0;34m\u001b[0m\n\u001b[0;32m----> 1\u001b[0;31m \u001b[0;32mimport\u001b[0m \u001b[0mplotly\u001b[0m\u001b[0;34m.\u001b[0m\u001b[0mexpress\u001b[0m \u001b[0;32mas\u001b[0m \u001b[0mpx\u001b[0m\u001b[0;34m\u001b[0m\u001b[0;34m\u001b[0m\u001b[0m\n\u001b[0m\u001b[1;32m      2\u001b[0m \u001b[0;32mimport\u001b[0m \u001b[0mpandas\u001b[0m \u001b[0;32mas\u001b[0m \u001b[0mpd\u001b[0m\u001b[0;34m\u001b[0m\u001b[0;34m\u001b[0m\u001b[0m\n\u001b[1;32m      3\u001b[0m \u001b[0;34m\u001b[0m\u001b[0m\n\u001b[1;32m      4\u001b[0m schools = [\"Brown\", \"NYU\", \"Notre Dame\", \"Cornell\", \"Tufts\", \"Yale\",\n\u001b[1;32m      5\u001b[0m            \u001b[0;34m\"Dartmouth\"\u001b[0m\u001b[0;34m,\u001b[0m \u001b[0;34m\"Chicago\"\u001b[0m\u001b[0;34m,\u001b[0m \u001b[0;34m\"Columbia\"\u001b[0m\u001b[0;34m,\u001b[0m \u001b[0;34m\"Duke\"\u001b[0m\u001b[0;34m,\u001b[0m \u001b[0;34m\"Georgetown\"\u001b[0m\u001b[0;34m,\u001b[0m\u001b[0;34m\u001b[0m\u001b[0;34m\u001b[0m\u001b[0m\n",
      "\u001b[0;31mModuleNotFoundError\u001b[0m: No module named 'plotly'"
     ]
    }
   ],
   "source": [
    "import plotly.express as px\n",
    "import pandas as pd\n",
    "\n",
    "schools = [\"Brown\", \"NYU\", \"Notre Dame\", \"Cornell\", \"Tufts\", \"Yale\",\n",
    "           \"Dartmouth\", \"Chicago\", \"Columbia\", \"Duke\", \"Georgetown\",\n",
    "           \"Princeton\", \"U.Penn\", \"Stanford\", \"MIT\", \"Harvard\"]\n",
    "n_schools = len(schools)\n",
    "\n",
    "men_salary = [72, 67, 73, 80, 76, 79, 84, 78, 86, 93, 94, 90, 92, 96, 94, 112]\n",
    "women_salary = [92, 94, 100, 107, 112, 114, 114, 118, 119, 124, 131, 137, 141, 151, 152, 165]\n",
    "\n",
    "df = pd.DataFrame(dict(school=schools*2, salary=men_salary + women_salary,\n",
    "                       gender=[\"Men\"]*n_schools + [\"Women\"]*n_schools))\n",
    "\n",
    "# Use column names of df for the different parameters x, y, color, ...\n",
    "fig = px.scatter(df, x=\"salary\", y=\"school\", color=\"gender\",\n",
    "                 title=\"Gender Earnings Disparity\",\n",
    "                 labels={\"salary\":\"Annual Salary (in thousands)\"} # customize axis label\n",
    "                )\n",
    "\n",
    "fig.show()"
   ]
  },
  {
   "cell_type": "code",
   "execution_count": null,
   "metadata": {},
   "outputs": [],
   "source": []
  }
 ],
 "metadata": {
  "kernelspec": {
   "display_name": "Python 3",
   "language": "python",
   "name": "python3"
  },
  "language_info": {
   "codemirror_mode": {
    "name": "ipython",
    "version": 3
   },
   "file_extension": ".py",
   "mimetype": "text/x-python",
   "name": "python",
   "nbconvert_exporter": "python",
   "pygments_lexer": "ipython3",
   "version": "3.7.3"
  }
 },
 "nbformat": 4,
 "nbformat_minor": 4
}
